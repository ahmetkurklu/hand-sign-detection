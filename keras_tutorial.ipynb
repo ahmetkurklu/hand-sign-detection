{
 "cells": [
  {
   "cell_type": "code",
   "execution_count": 2,
   "id": "2c2fee96",
   "metadata": {},
   "outputs": [],
   "source": [
    "import numpy as np\n",
    "from random import randint\n",
    "from sklearn.utils import shuffle\n",
    "from sklearn.preprocessing import MinMaxScaler"
   ]
  },
  {
   "cell_type": "code",
   "execution_count": 3,
   "id": "cf3ca476",
   "metadata": {},
   "outputs": [],
   "source": [
    "train_labels = []\n",
    "train_samples = []"
   ]
  },
  {
   "cell_type": "code",
   "execution_count": 4,
   "id": "96564a1f",
   "metadata": {},
   "outputs": [],
   "source": [
    "for i in range (50):\n",
    "    random_younger = randint(13,64)\n",
    "    train_samples.append(random_younger)\n",
    "    train_labels.append(1) #Experienced side effects\n",
    "\n",
    "    random_older = randint(63,100)\n",
    "    train_samples.append(random_older)\n",
    "    train_labels.append(0) #No side effects\n",
    "\n",
    "for i in range (1000):\n",
    "    random_younger = randint(13,64)\n",
    "    train_samples.append(random_younger)\n",
    "    train_labels.append(0) #Side effects\n",
    "\n",
    "    random_older = randint(63,100)\n",
    "    train_samples.append(random_older)\n",
    "    train_labels.append(1) # No side effects\n",
    "\n"
   ]
  },
  {
   "cell_type": "code",
   "execution_count": 7,
   "id": "15295a0a",
   "metadata": {},
   "outputs": [
    {
     "name": "stdout",
     "output_type": "stream",
     "text": [
      "[24, 71, 48, 97, 29] 2100\n",
      "[1, 0, 1, 0, 1] 2100\n"
     ]
    }
   ],
   "source": [
    "print(train_samples[:5], len(train_samples))\n",
    "print(train_labels[:5], len(train_labels))"
   ]
  },
  {
   "cell_type": "code",
   "execution_count": 8,
   "id": "6bbe5817",
   "metadata": {},
   "outputs": [],
   "source": [
    "train_labels = np.array(train_labels)\n",
    "train_samples = np.array(train_samples)\n",
    "train_labels,train_samples = shuffle(train_labels,train_samples)"
   ]
  },
  {
   "cell_type": "code",
   "execution_count": 10,
   "id": "bdfc67f1",
   "metadata": {},
   "outputs": [
    {
     "data": {
      "text/plain": [
       "array([[0.49425287],\n",
       "       [0.40229885],\n",
       "       [0.35632184],\n",
       "       [1.        ],\n",
       "       [0.51724138]])"
      ]
     },
     "execution_count": 10,
     "metadata": {},
     "output_type": "execute_result"
    }
   ],
   "source": [
    "scaler = MinMaxScaler(feature_range=(0,1))\n",
    "scaled_train_samples = scaler.fit_transform(train_samples.reshape(-1,1))\n",
    "scaled_train_samples[:5]"
   ]
  },
  {
   "attachments": {},
   "cell_type": "markdown",
   "id": "992330eb",
   "metadata": {},
   "source": [
    "Creating an artificial neural network"
   ]
  },
  {
   "cell_type": "code",
   "execution_count": 12,
   "id": "0e322cef",
   "metadata": {},
   "outputs": [],
   "source": [
    "import tensorflow as tf\n",
    "from tensorflow import keras\n",
    "from tensorflow.keras.models import Sequential\n",
    "from tensorflow.keras.layers import Activation, Dense\n",
    "from tensorflow.keras.optimizers import Adam\n",
    "from tensorflow.keras.metrics import categorical_crossentropy"
   ]
  },
  {
   "cell_type": "code",
   "execution_count": 14,
   "id": "4f75ebda",
   "metadata": {},
   "outputs": [],
   "source": [
    "model = Sequential([\n",
    "    Dense(units= 16, input_shape=(1,),activation='relu'),\n",
    "    Dense(units= 32, activation='relu'),\n",
    "    Dense(units= 2, activation='softmax')\n",
    "])"
   ]
  },
  {
   "cell_type": "code",
   "execution_count": 15,
   "id": "1f0c105f",
   "metadata": {},
   "outputs": [
    {
     "name": "stdout",
     "output_type": "stream",
     "text": [
      "Model: \"sequential\"\n",
      "_________________________________________________________________\n",
      " Layer (type)                Output Shape              Param #   \n",
      "=================================================================\n",
      " dense (Dense)               (None, 16)                32        \n",
      "                                                                 \n",
      " dense_1 (Dense)             (None, 32)                544       \n",
      "                                                                 \n",
      " dense_2 (Dense)             (None, 2)                 66        \n",
      "                                                                 \n",
      "=================================================================\n",
      "Total params: 642\n",
      "Trainable params: 642\n",
      "Non-trainable params: 0\n",
      "_________________________________________________________________\n"
     ]
    }
   ],
   "source": [
    "model.summary()"
   ]
  },
  {
   "attachments": {},
   "cell_type": "markdown",
   "id": "5ca99173",
   "metadata": {},
   "source": [
    "Training the model"
   ]
  },
  {
   "cell_type": "code",
   "execution_count": 16,
   "id": "8a9410f9",
   "metadata": {},
   "outputs": [],
   "source": [
    "model.compile(optimizer=Adam(learning_rate=0.0001), loss='sparse_categorical_crossentropy', metrics=['accuracy'])"
   ]
  },
  {
   "cell_type": "code",
   "execution_count": 17,
   "id": "9f7f5e8c",
   "metadata": {},
   "outputs": [
    {
     "name": "stdout",
     "output_type": "stream",
     "text": [
      "Epoch 1/30\n",
      "189/189 - 2s - loss: 0.6947 - accuracy: 0.4492 - val_loss: 0.6815 - val_accuracy: 0.5476 - 2s/epoch - 12ms/step\n",
      "Epoch 2/30\n",
      "189/189 - 0s - loss: 0.6677 - accuracy: 0.6116 - val_loss: 0.6553 - val_accuracy: 0.6381 - 241ms/epoch - 1ms/step\n",
      "Epoch 3/30\n",
      "189/189 - 0s - loss: 0.6426 - accuracy: 0.6519 - val_loss: 0.6326 - val_accuracy: 0.6619 - 235ms/epoch - 1ms/step\n",
      "Epoch 4/30\n",
      "189/189 - 0s - loss: 0.6201 - accuracy: 0.6815 - val_loss: 0.6128 - val_accuracy: 0.6952 - 231ms/epoch - 1ms/step\n",
      "Epoch 5/30\n",
      "189/189 - 0s - loss: 0.5992 - accuracy: 0.7079 - val_loss: 0.5930 - val_accuracy: 0.7238 - 235ms/epoch - 1ms/step\n",
      "Epoch 6/30\n",
      "189/189 - 0s - loss: 0.5779 - accuracy: 0.7323 - val_loss: 0.5729 - val_accuracy: 0.7524 - 235ms/epoch - 1ms/step\n",
      "Epoch 7/30\n",
      "189/189 - 0s - loss: 0.5562 - accuracy: 0.7603 - val_loss: 0.5525 - val_accuracy: 0.7905 - 235ms/epoch - 1ms/step\n",
      "Epoch 8/30\n",
      "189/189 - 0s - loss: 0.5338 - accuracy: 0.7794 - val_loss: 0.5322 - val_accuracy: 0.8143 - 259ms/epoch - 1ms/step\n",
      "Epoch 9/30\n",
      "189/189 - 0s - loss: 0.5112 - accuracy: 0.8069 - val_loss: 0.5114 - val_accuracy: 0.8238 - 215ms/epoch - 1ms/step\n",
      "Epoch 10/30\n",
      "189/189 - 0s - loss: 0.4884 - accuracy: 0.8169 - val_loss: 0.4915 - val_accuracy: 0.8286 - 259ms/epoch - 1ms/step\n",
      "Epoch 11/30\n",
      "189/189 - 0s - loss: 0.4662 - accuracy: 0.8381 - val_loss: 0.4725 - val_accuracy: 0.8429 - 221ms/epoch - 1ms/step\n",
      "Epoch 12/30\n",
      "189/189 - 0s - loss: 0.4448 - accuracy: 0.8566 - val_loss: 0.4546 - val_accuracy: 0.8524 - 220ms/epoch - 1ms/step\n",
      "Epoch 13/30\n",
      "189/189 - 0s - loss: 0.4245 - accuracy: 0.8635 - val_loss: 0.4386 - val_accuracy: 0.8714 - 218ms/epoch - 1ms/step\n",
      "Epoch 14/30\n",
      "189/189 - 0s - loss: 0.4057 - accuracy: 0.8762 - val_loss: 0.4246 - val_accuracy: 0.8762 - 235ms/epoch - 1ms/step\n",
      "Epoch 15/30\n",
      "189/189 - 0s - loss: 0.3884 - accuracy: 0.8857 - val_loss: 0.4114 - val_accuracy: 0.8857 - 228ms/epoch - 1ms/step\n",
      "Epoch 16/30\n",
      "189/189 - 0s - loss: 0.3727 - accuracy: 0.8878 - val_loss: 0.4005 - val_accuracy: 0.8905 - 233ms/epoch - 1ms/step\n",
      "Epoch 17/30\n",
      "189/189 - 0s - loss: 0.3587 - accuracy: 0.8974 - val_loss: 0.3908 - val_accuracy: 0.8905 - 232ms/epoch - 1ms/step\n",
      "Epoch 18/30\n",
      "189/189 - 0s - loss: 0.3462 - accuracy: 0.9037 - val_loss: 0.3816 - val_accuracy: 0.8905 - 230ms/epoch - 1ms/step\n",
      "Epoch 19/30\n",
      "189/189 - 0s - loss: 0.3352 - accuracy: 0.9032 - val_loss: 0.3759 - val_accuracy: 0.9000 - 230ms/epoch - 1ms/step\n",
      "Epoch 20/30\n",
      "189/189 - 0s - loss: 0.3259 - accuracy: 0.9138 - val_loss: 0.3694 - val_accuracy: 0.9000 - 243ms/epoch - 1ms/step\n",
      "Epoch 21/30\n",
      "189/189 - 0s - loss: 0.3177 - accuracy: 0.9106 - val_loss: 0.3653 - val_accuracy: 0.9000 - 233ms/epoch - 1ms/step\n",
      "Epoch 22/30\n",
      "189/189 - 0s - loss: 0.3105 - accuracy: 0.9190 - val_loss: 0.3616 - val_accuracy: 0.9048 - 228ms/epoch - 1ms/step\n",
      "Epoch 23/30\n",
      "189/189 - 0s - loss: 0.3044 - accuracy: 0.9164 - val_loss: 0.3586 - val_accuracy: 0.9048 - 232ms/epoch - 1ms/step\n",
      "Epoch 24/30\n",
      "189/189 - 0s - loss: 0.2989 - accuracy: 0.9201 - val_loss: 0.3561 - val_accuracy: 0.9048 - 238ms/epoch - 1ms/step\n",
      "Epoch 25/30\n",
      "189/189 - 0s - loss: 0.2943 - accuracy: 0.9201 - val_loss: 0.3540 - val_accuracy: 0.9048 - 216ms/epoch - 1ms/step\n",
      "Epoch 26/30\n",
      "189/189 - 0s - loss: 0.2901 - accuracy: 0.9249 - val_loss: 0.3522 - val_accuracy: 0.9048 - 214ms/epoch - 1ms/step\n",
      "Epoch 27/30\n",
      "189/189 - 0s - loss: 0.2866 - accuracy: 0.9206 - val_loss: 0.3513 - val_accuracy: 0.9048 - 213ms/epoch - 1ms/step\n",
      "Epoch 28/30\n",
      "189/189 - 0s - loss: 0.2833 - accuracy: 0.9270 - val_loss: 0.3498 - val_accuracy: 0.9048 - 232ms/epoch - 1ms/step\n",
      "Epoch 29/30\n",
      "189/189 - 0s - loss: 0.2809 - accuracy: 0.9233 - val_loss: 0.3498 - val_accuracy: 0.9095 - 231ms/epoch - 1ms/step\n",
      "Epoch 30/30\n",
      "189/189 - 0s - loss: 0.2783 - accuracy: 0.9238 - val_loss: 0.3496 - val_accuracy: 0.9095 - 235ms/epoch - 1ms/step\n"
     ]
    },
    {
     "data": {
      "text/plain": [
       "<keras.callbacks.History at 0x22bd88f9cf0>"
      ]
     },
     "execution_count": 17,
     "metadata": {},
     "output_type": "execute_result"
    }
   ],
   "source": [
    "model.fit(x = scaled_train_samples, y= train_labels, validation_split= 0.1, batch_size=10, shuffle = True, epochs=30, verbose=2)"
   ]
  },
  {
   "attachments": {},
   "cell_type": "markdown",
   "id": "6212a58c",
   "metadata": {},
   "source": [
    "Building a test set and predicting"
   ]
  },
  {
   "cell_type": "code",
   "execution_count": 18,
   "id": "cea6c316",
   "metadata": {},
   "outputs": [],
   "source": [
    "test_labels = []\n",
    "test_samples = []\n",
    "\n",
    "for i in range (50):\n",
    "    random_younger = randint(13,64)\n",
    "    test_samples.append(random_younger)\n",
    "    test_labels.append(1) #Experienced side effects\n",
    "\n",
    "    random_older = randint(63,100)\n",
    "    test_samples.append(random_older)\n",
    "    test_labels.append(0) #No side effects\n",
    "\n",
    "for i in range (1000):\n",
    "    random_younger = randint(13,64)\n",
    "    test_samples.append(random_younger)\n",
    "    test_labels.append(0) #Side effects\n",
    "\n",
    "    random_older = randint(63,100)\n",
    "    test_samples.append(random_older)\n",
    "    test_labels.append(1) # No side effects\n",
    "\n",
    "test_labels = np.array(test_labels)\n",
    "test_samples = np.array(test_samples)\n",
    "test_labels,test_samples = shuffle(test_labels,test_samples)\n",
    "\n",
    "scaled_test_samples = scaler.transform(test_samples.reshape(-1,1))"
   ]
  },
  {
   "cell_type": "code",
   "execution_count": 19,
   "id": "36d9e078",
   "metadata": {},
   "outputs": [],
   "source": [
    "predictions = model.predict(x=scaled_test_samples,batch_size=10,verbose=0)"
   ]
  },
  {
   "cell_type": "code",
   "execution_count": 20,
   "id": "a7d641b8",
   "metadata": {},
   "outputs": [
    {
     "name": "stdout",
     "output_type": "stream",
     "text": [
      "[[0.3654261  0.6345739 ]\n",
      " [0.94719017 0.05280977]\n",
      " [0.31042993 0.68957007]\n",
      " [0.03912713 0.9608728 ]\n",
      " [0.9280486  0.07195139]]\n"
     ]
    }
   ],
   "source": [
    "print(predictions[:5])"
   ]
  },
  {
   "cell_type": "code",
   "execution_count": 21,
   "id": "c86a053a",
   "metadata": {},
   "outputs": [
    {
     "data": {
      "text/plain": [
       "array([1, 0, 1, 1, 0], dtype=int64)"
      ]
     },
     "execution_count": 21,
     "metadata": {},
     "output_type": "execute_result"
    }
   ],
   "source": [
    "rounded_predictions = np.argmax(predictions, axis=-1)\n",
    "rounded_predictions[:5]"
   ]
  },
  {
   "cell_type": "code",
   "execution_count": 22,
   "id": "bfe58478",
   "metadata": {},
   "outputs": [],
   "source": [
    "from sklearn.metrics import confusion_matrix\n",
    "import itertools\n",
    "import matplotlib.pyplot as plt"
   ]
  },
  {
   "cell_type": "code",
   "execution_count": 23,
   "id": "2e006db8",
   "metadata": {},
   "outputs": [],
   "source": [
    "cm = confusion_matrix(y_true=test_labels, y_pred= rounded_predictions)"
   ]
  },
  {
   "cell_type": "code",
   "execution_count": 28,
   "id": "5ed4473d",
   "metadata": {},
   "outputs": [],
   "source": [
    "def plot_confusion_matrix(cm,classes,normalize=False,title='Confusion matrix', cmap=plt.cm.Blues):\n",
    "    plt.imshow(cm,interpolation='nearest',cmap=cmap)\n",
    "    plt.title(title)\n",
    "    plt.colorbar()\n",
    "    tick_marks = np.arange(len(classes))\n",
    "    plt.xticks(tick_marks,classes, rotation = 45)\n",
    "    plt.yticks(tick_marks,classes) \n",
    "\n",
    "    if normalize:\n",
    "        cm = cm.astype('float') / cm.sum(axis=1)[:,np.newaxis]\n",
    "        print(\"Normalized confusion matrix\")\n",
    "    else:\n",
    "        print(\"Confusion matrix, without normalization\")\n",
    "    print(cm)\n",
    "\n",
    "    tresh = cm.max()/2.\n",
    "    for i,j in itertools.product(range(cm.shape[0]), range(cm.shape[1])):\n",
    "        plt.text(j,i,cm[i,j],horizontalalignment=\"center\",color=\"white\" if cm[i,j] > tresh else \"black\")\n",
    "\n",
    "    plt.tight_layout()\n",
    "    plt.ylabel('True label')\n",
    "    plt.xlabel('Predicted label')\n",
    "        "
   ]
  },
  {
   "cell_type": "code",
   "execution_count": 29,
   "id": "51e43a80",
   "metadata": {},
   "outputs": [],
   "source": [
    "cm_plot_labels=['no_side_effects','had_side_effects']"
   ]
  },
  {
   "cell_type": "code",
   "execution_count": 30,
   "id": "407f74c2",
   "metadata": {},
   "outputs": [
    {
     "name": "stdout",
     "output_type": "stream",
     "text": [
      "Confusion matrix, without normalization\n",
      "[[ 967   83]\n",
      " [  44 1006]]\n"
     ]
    },
    {
     "data": {
      "image/png": "[encoded data removed]",
      "text/plain": [
       "<Figure size 640x480 with 2 Axes>"
      ]
     },
     "metadata": {},
     "output_type": "display_data"
    }
   ],
   "source": [
    "plot_confusion_matrix(cm=cm,classes=cm_plot_labels, title='Confusion Matrix')"
   ]
  }
 ],
 "metadata": {
  "kernelspec": {
   "display_name": "Python 3",
   "language": "python",
   "name": "python3"
  },
  "language_info": {
   "codemirror_mode": {
    "name": "ipython",
    "version": 3
   },
   "file_extension": ".py",
   "mimetype": "text/x-python",
   "name": "python",
   "nbconvert_exporter": "python",
   "pygments_lexer": "ipython3",
   "version": "3.10.2"
  },
  "vscode": {
   "interpreter": {
    "hash": "301a17a29b57d3836b7901af1621afd6d2b1f2298b9c7949191147cf2fea93e3"
   }
  }
 },
 "nbformat": 4,
 "nbformat_minor": 5
}
