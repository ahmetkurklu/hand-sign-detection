{
 "cells": [
  {
   "cell_type": "code",
   "execution_count": 1,
   "metadata": {},
   "outputs": [],
   "source": [
    "import tensorflow as tf\n",
    "from tensorflow import keras\n",
    "from keras.preprocessing.image import ImageDataGenerator\n",
    "\n",
    "from keras.models import Sequential\n",
    "from keras.layers import Conv2D, MaxPooling2D\n",
    "from keras.layers import Activation, Dropout, Flatten, Dense\n",
    "\n",
    "from keras.callbacks import EarlyStopping, ModelCheckpoint"
   ]
  },
  {
   "cell_type": "code",
   "execution_count": 2,
   "metadata": {},
   "outputs": [],
   "source": [
    "img_width, img_height = 200,200\n",
    "batch_size = 16\n",
    "num_classe = 8"
   ]
  },
  {
   "cell_type": "code",
   "execution_count": 3,
   "metadata": {},
   "outputs": [
    {
     "name": "stdout",
     "output_type": "stream",
     "text": [
      "Found 1750 images belonging to 8 classes.\n"
     ]
    }
   ],
   "source": [
    "training_directory = \"images/train/\"\n",
    "\n",
    "train_datagen = ImageDataGenerator(rescale=1/255.0)\n",
    "\n",
    "train_generator = train_datagen.flow_from_directory(training_directory,\n",
    "batch_size = batch_size,\n",
    "class_mode=\"categorical\",\n",
    "target_size=(img_height,img_width))"
   ]
  },
  {
   "cell_type": "code",
   "execution_count": 4,
   "metadata": {},
   "outputs": [
    {
     "name": "stdout",
     "output_type": "stream",
     "text": [
      "Found 80 images belonging to 8 classes.\n"
     ]
    }
   ],
   "source": [
    "validation_directory =\"images/validation/\" \n",
    "\n",
    "validation_datagen = ImageDataGenerator(rescale=1/255.0)\n",
    "\n",
    "validation_generator = validation_datagen.flow_from_directory(validation_directory,\n",
    "batch_size = batch_size,\n",
    "class_mode=\"categorical\",\n",
    "target_size=(img_height,img_width))\n"
   ]
  },
  {
   "cell_type": "code",
   "execution_count": 5,
   "metadata": {},
   "outputs": [],
   "source": [
    "callbacks = EarlyStopping(monitor=\"val_loss\",patience=1,verbose=1, mode=\"auto\")\n",
    "#autosave best model\n",
    "best_model_file = \"CNN_aug_best_model.h5\"\n",
    "best_model = ModelCheckpoint(best_model_file,monitor=\"val_acc\",verbose=1,save_best_only=True)"
   ]
  },
  {
   "cell_type": "code",
   "execution_count": 6,
   "metadata": {},
   "outputs": [],
   "source": [
    "# # Creating a Sequential model\n",
    "# model= Sequential()\n",
    "# model.add(Conv2D(kernel_size=(3,3), filters=32, activation='tanh', input_shape=(img_height,img_width,3,)))\n",
    "# model.add(Conv2D(filters=30,kernel_size = (3,3),activation='tanh'))\n",
    "# model.add(MaxPooling2D(2,2))\n",
    "# model.add(Conv2D(filters=30,kernel_size = (3,3),activation='tanh'))\n",
    "# model.add(MaxPooling2D(2,2))\n",
    "# model.add(Conv2D(filters=30,kernel_size = (3,3),activation='tanh'))\n",
    "\n",
    "# model.add(Flatten())\n",
    "\n",
    "# model.add(Dense(32,activation='relu'))\n",
    "# model.add(Dense(16,activation='relu'))\n",
    "# model.add(Dense(8,activation = 'softmax'))"
   ]
  },
  {
   "cell_type": "code",
   "execution_count": 7,
   "metadata": {},
   "outputs": [],
   "source": [
    "model = tf.keras.Sequential([\n",
    "  tf.keras.layers.Rescaling(1./255),\n",
    "  tf.keras.layers.Conv2D(16, 3, activation='relu'),\n",
    "  tf.keras.layers.MaxPooling2D(),\n",
    "  tf.keras.layers.Conv2D(32, 3, activation='relu'),\n",
    "  tf.keras.layers.MaxPooling2D(),\n",
    "  tf.keras.layers.Conv2D(64, 3, activation='relu'),\n",
    "  tf.keras.layers.MaxPooling2D(),\n",
    "  tf.keras.layers.Flatten(),\n",
    "  tf.keras.layers.Dense(128, activation='relu'),\n",
    "  tf.keras.layers.Dense(num_classe,activation=\"softmax\")\n",
    "])\n",
    "#model.summary()"
   ]
  },
  {
   "cell_type": "code",
   "execution_count": 8,
   "metadata": {},
   "outputs": [],
   "source": [
    "# model = Sequential([\n",
    "#     Conv2D(16,(3,3),activation=\"relu\",input_shape=(img_height,img_width,3)),MaxPooling2D(2,2),\n",
    "#     Conv2D(32,(3,3),activation=\"relu\"),MaxPooling2D(2,2),\n",
    "#     Conv2D(64,(3,3),activation=\"relu\"),\n",
    "#     Conv2D(64,(3,3),activation=\"relu\"),\n",
    "#     MaxPooling2D(2,2),\n",
    "#     Conv2D(128,(3,3),activation=\"relu\"),\n",
    "#     Conv2D(128,(3,3),activation=\"relu\"),\n",
    "#     MaxPooling2D(2,2),\n",
    "#     Conv2D(256,(3,3),activation=\"relu\"),\n",
    "#     Conv2D(256,(3,3),activation=\"relu\"),\n",
    "#     Conv2D(256,(3,3),activation=\"relu\"),\n",
    "#     MaxPooling2D(2,2),\n",
    "#     Flatten(),\n",
    "#     Dense(512,activation=\"relu\"),\n",
    "#     Dense(512,activation=\"relu\"),\n",
    "#     Dense(num_classe,activation=\"softmax\")\n",
    "#     ])\n"
   ]
  },
  {
   "cell_type": "code",
   "execution_count": 9,
   "metadata": {},
   "outputs": [],
   "source": [
    "model.compile(optimizer=\"Adam\",loss=\"categorical_crossentropy\",metrics=[\"accuracy\"])"
   ]
  },
  {
   "cell_type": "code",
   "execution_count": 10,
   "metadata": {},
   "outputs": [
    {
     "name": "stderr",
     "output_type": "stream",
     "text": [
      "C:\\Users\\ahmet\\AppData\\Local\\Temp\\ipykernel_7440\\3320234228.py:1: UserWarning: `Model.fit_generator` is deprecated and will be removed in a future version. Please use `Model.fit`, which supports generators.\n",
      "  history = model.fit_generator(train_generator,\n"
     ]
    },
    {
     "name": "stdout",
     "output_type": "stream",
     "text": [
      "Epoch 1/10\n",
      "110/110 [==============================] - 22s 188ms/step - loss: 2.0804 - accuracy: 0.1200 - val_loss: 2.0794 - val_accuracy: 0.1250\n",
      "Epoch 2/10\n",
      "110/110 [==============================] - 20s 185ms/step - loss: 2.0797 - accuracy: 0.1200 - val_loss: 2.0794 - val_accuracy: 0.1250\n",
      "Epoch 3/10\n",
      "110/110 [==============================] - 20s 185ms/step - loss: 2.0798 - accuracy: 0.1263 - val_loss: 2.0795 - val_accuracy: 0.1250\n",
      "Epoch 4/10\n",
      "110/110 [==============================] - 20s 185ms/step - loss: 2.0797 - accuracy: 0.1206 - val_loss: 2.0795 - val_accuracy: 0.1250\n",
      "Epoch 5/10\n",
      "110/110 [==============================] - 21s 189ms/step - loss: 2.0798 - accuracy: 0.1120 - val_loss: 2.0795 - val_accuracy: 0.1250\n",
      "Epoch 6/10\n",
      "110/110 [==============================] - 21s 189ms/step - loss: 2.0798 - accuracy: 0.1217 - val_loss: 2.0795 - val_accuracy: 0.1250\n",
      "Epoch 7/10\n",
      "110/110 [==============================] - 21s 187ms/step - loss: 2.0797 - accuracy: 0.1223 - val_loss: 2.0794 - val_accuracy: 0.1250\n",
      "Epoch 8/10\n",
      "110/110 [==============================] - 20s 186ms/step - loss: 2.0797 - accuracy: 0.1206 - val_loss: 2.0795 - val_accuracy: 0.1250\n",
      "Epoch 9/10\n",
      "110/110 [==============================] - 21s 187ms/step - loss: 2.0797 - accuracy: 0.1229 - val_loss: 2.0795 - val_accuracy: 0.1250\n",
      "Epoch 10/10\n",
      "110/110 [==============================] - 20s 185ms/step - loss: 2.0797 - accuracy: 0.1149 - val_loss: 2.0795 - val_accuracy: 0.1250\n"
     ]
    }
   ],
   "source": [
    "history = model.fit_generator(train_generator,\n",
    "epochs=10,\n",
    "verbose= 1,\n",
    "validation_data= validation_generator)"
   ]
  },
  {
   "cell_type": "code",
   "execution_count": 11,
   "metadata": {},
   "outputs": [],
   "source": [
    "model.save(\"hand_sign_detector_2.model\", save_format=\"h5\")"
   ]
  }
 ],
 "metadata": {
  "kernelspec": {
   "display_name": "Python 3 (ipykernel)",
   "language": "python",
   "name": "python3"
  },
  "language_info": {
   "codemirror_mode": {
    "name": "ipython",
    "version": 3
   },
   "file_extension": ".py",
   "mimetype": "text/x-python",
   "name": "python",
   "nbconvert_exporter": "python",
   "pygments_lexer": "ipython3",
   "version": "3.10.2"
  },
  "vscode": {
   "interpreter": {
    "hash": "301a17a29b57d3836b7901af1621afd6d2b1f2298b9c7949191147cf2fea93e3"
   }
  }
 },
 "nbformat": 4,
 "nbformat_minor": 2
}
