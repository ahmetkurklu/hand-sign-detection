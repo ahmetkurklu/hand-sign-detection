{
 "cells": [
  {
   "cell_type": "code",
   "execution_count": 15,
   "metadata": {},
   "outputs": [],
   "source": [
    "import tensorflow as tf\n",
    "from tensorflow import keras\n",
    "from tensorflow.keras.preprocessing.image import ImageDataGenerator\n",
    "from keras.models import Sequential\n",
    "from keras.layers import Conv2D, MaxPooling2D\n",
    "from keras.layers import Activation, Dropout, Flatten, Dense"
   ]
  },
  {
   "cell_type": "code",
   "execution_count": 16,
   "metadata": {},
   "outputs": [
    {
     "name": "stdout",
     "output_type": "stream",
     "text": [
      "Found 114 images belonging to 8 classes.\n",
      "Found 32 images belonging to 8 classes.\n"
     ]
    }
   ],
   "source": [
    "path_val = \"images/validation/\"\n",
    "path_train = \"images/train/\"\n",
    "\n",
    "train_datagen = ImageDataGenerator(rescale=1./255,\n",
    "        shear_range=0.2,\n",
    "        zoom_range=0.2,\n",
    "        horizontal_flip=True)\n",
    "\n",
    "\n",
    "test_datagen = ImageDataGenerator(rescale=1./255)\n",
    "\n",
    "\n",
    "train_generator = train_datagen.flow_from_directory(path_train,\n",
    "        target_size=(277, 267),\n",
    "        batch_size=32,\n",
    "        class_mode='binary')\n",
    "\n",
    "validation_generator = test_datagen.flow_from_directory(path_val,\n",
    "        target_size=(277, 267),\n",
    "        batch_size=32,\n",
    "        class_mode='binary')\n",
    "\n",
    "\n",
    "\n",
    "\n"
   ]
  },
  {
   "cell_type": "code",
   "execution_count": 18,
   "metadata": {},
   "outputs": [],
   "source": [
    "model = Sequential()\n",
    "model.add(Conv2D(32, (3, 3), input_shape=(277, 267, 3)))\n",
    "model.add(Activation('relu'))\n",
    "model.add(MaxPooling2D(pool_size=(2, 2)))\n",
    "\n",
    "model.add(Conv2D(32, (3, 3)))\n",
    "model.add(Activation('relu'))\n",
    "model.add(MaxPooling2D(pool_size=(2, 2)))\n",
    "\n",
    "model.add(Conv2D(64, (3, 3)))\n",
    "model.add(Activation('relu'))\n",
    "model.add(MaxPooling2D(pool_size=(2, 2)))\n",
    "\n",
    "model.add(Flatten())  # this converts our 3D feature maps to 1D feature vectors\n",
    "model.add(Dense(64))\n",
    "model.add(Activation('relu'))\n",
    "model.add(Dropout(0.5))\n",
    "model.add(Dense(1))\n",
    "model.add(Activation('sigmoid'))\n",
    "\n",
    "model.compile(loss='binary_crossentropy',\n",
    "              optimizer='rmsprop',\n",
    "              metrics=['accuracy'])"
   ]
  },
  {
   "cell_type": "code",
   "execution_count": 20,
   "metadata": {},
   "outputs": [
    {
     "name": "stderr",
     "output_type": "stream",
     "text": [
      "C:\\Users\\ahmet\\AppData\\Local\\Temp\\ipykernel_11904\\2656475705.py:1: UserWarning: `Model.fit_generator` is deprecated and will be removed in a future version. Please use `Model.fit`, which supports generators.\n",
      "  model.fit_generator(\n"
     ]
    },
    {
     "name": "stdout",
     "output_type": "stream",
     "text": [
      "Epoch 1/10\n",
      "3/3 [==============================] - 3s 1s/step - loss: -13056.6025 - accuracy: 0.1220 - val_loss: -31375.8848 - val_accuracy: 0.1250\n",
      "Epoch 2/10\n",
      "3/3 [==============================] - 3s 849ms/step - loss: -61947.1211 - accuracy: 0.0976 - val_loss: -117557.5234 - val_accuracy: 0.1250\n",
      "Epoch 3/10\n",
      "3/3 [==============================] - 3s 1s/step - loss: -187007.9531 - accuracy: 0.1146 - val_loss: -295866.4375 - val_accuracy: 0.1250\n",
      "Epoch 4/10\n",
      "3/3 [==============================] - 3s 1s/step - loss: -507873.1250 - accuracy: 0.0976 - val_loss: -631448.2500 - val_accuracy: 0.1250\n",
      "Epoch 5/10\n",
      "3/3 [==============================] - 3s 986ms/step - loss: -968169.5625 - accuracy: 0.1341 - val_loss: -1140755.7500 - val_accuracy: 0.1250\n",
      "Epoch 6/10\n",
      "3/3 [==============================] - 3s 1s/step - loss: -1561851.0000 - accuracy: 0.1146 - val_loss: -1825257.8750 - val_accuracy: 0.1250\n",
      "Epoch 7/10\n",
      "3/3 [==============================] - 4s 1s/step - loss: -2317058.0000 - accuracy: 0.1250 - val_loss: -2756563.7500 - val_accuracy: 0.1250\n",
      "Epoch 8/10\n",
      "3/3 [==============================] - 4s 1s/step - loss: -3818172.0000 - accuracy: 0.0938 - val_loss: -4043490.5000 - val_accuracy: 0.1250\n",
      "Epoch 9/10\n",
      "3/3 [==============================] - 3s 1s/step - loss: -5291831.0000 - accuracy: 0.1220 - val_loss: -5636396.5000 - val_accuracy: 0.1250\n",
      "Epoch 10/10\n",
      "3/3 [==============================] - 3s 858ms/step - loss: -7560410.5000 - accuracy: 0.0976 - val_loss: -7811263.0000 - val_accuracy: 0.1250\n"
     ]
    }
   ],
   "source": [
    "model.fit_generator(\n",
    "        train_generator,\n",
    "        steps_per_epoch=train_generator.samples // train_generator.batch_size,\n",
    "        epochs=10,\n",
    "        validation_data=validation_generator,\n",
    "        validation_steps= validation_generator.samples // validation_generator.batch_size)\n",
    "model.save_weights('first_try.h5')  # always save your weights after training or during training"
   ]
  },
  {
   "cell_type": "code",
   "execution_count": 21,
   "metadata": {},
   "outputs": [
    {
     "name": "stderr",
     "output_type": "stream",
     "text": [
      "C:\\Users\\ahmet\\AppData\\Local\\Temp\\ipykernel_11904\\104031207.py:1: UserWarning: `Model.evaluate_generator` is deprecated and will be removed in a future version. Please use `Model.evaluate`, which supports generators.\n",
      "  val_loss, val_acc = model.evaluate_generator(validation_generator, steps=validation_generator.samples // validation_generator.batch_size)\n"
     ]
    },
    {
     "name": "stdout",
     "output_type": "stream",
     "text": [
      "Validation Loss:  -7811262.5\n",
      "Validation Acc:  0.125\n"
     ]
    }
   ],
   "source": [
    "val_loss, val_acc = model.evaluate_generator(validation_generator, steps=validation_generator.samples // validation_generator.batch_size)\n",
    "print(\"Validation Loss: \", val_loss)\n",
    "print(\"Validation Acc: \", val_acc)"
   ]
  }
 ],
 "metadata": {
  "kernelspec": {
   "display_name": "Python 3 (ipykernel)",
   "language": "python",
   "name": "python3"
  },
  "language_info": {
   "codemirror_mode": {
    "name": "ipython",
    "version": 3
   },
   "file_extension": ".py",
   "mimetype": "text/x-python",
   "name": "python",
   "nbconvert_exporter": "python",
   "pygments_lexer": "ipython3",
   "version": "3.10.2"
  },
  "vscode": {
   "interpreter": {
    "hash": "301a17a29b57d3836b7901af1621afd6d2b1f2298b9c7949191147cf2fea93e3"
   }
  }
 },
 "nbformat": 4,
 "nbformat_minor": 2
}
